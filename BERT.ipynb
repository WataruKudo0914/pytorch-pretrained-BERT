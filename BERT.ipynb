{
 "cells": [
  {
   "cell_type": "markdown",
   "metadata": {},
   "source": [
    "# Helpful Prediction by BERT using only text information"
   ]
  },
  {
   "cell_type": "code",
   "execution_count": 1,
   "metadata": {},
   "outputs": [],
   "source": [
    "import numpy as np\n",
    "import pandas as pd\n",
    "import matplotlib.pyplot as plt\n",
    "%matplotlib inline"
   ]
  },
  {
   "cell_type": "markdown",
   "metadata": {},
   "source": [
    "test"
<<<<<<< HEAD
=======
   ]
  },
  {
   "cell_type": "code",
   "execution_count": 2,
   "metadata": {},
   "outputs": [],
   "source": [
    "import run_classifier"
   ]
  },
  {
   "cell_type": "code",
   "execution_count": 3,
   "metadata": {},
   "outputs": [],
   "source": [
    "ArdProcessor = run_classifier.ArdProcessor()"
   ]
  },
  {
   "cell_type": "code",
   "execution_count": 10,
   "metadata": {
    "scrolled": true
   },
   "outputs": [],
   "source": [
    "ard_exs = ArdProcessor.get_dev_examples(data_dir=\"glue_data/ARD\")"
   ]
  },
  {
   "cell_type": "code",
   "execution_count": 11,
   "metadata": {},
   "outputs": [],
   "source": [
    "MrpcProcessor = run_classifier.MrpcProcessor()"
   ]
  },
  {
   "cell_type": "code",
   "execution_count": 12,
   "metadata": {},
   "outputs": [],
   "source": [
    "mrpc_exs = MrpcProcessor.get_dev_examples(\"glue_data/MRPC\")"
   ]
  },
  {
   "cell_type": "code",
   "execution_count": 23,
   "metadata": {
    "scrolled": true
   },
   "outputs": [
    {
     "data": {
      "text/plain": [
       "'9'"
      ]
     },
     "execution_count": 23,
     "metadata": {},
     "output_type": "execute_result"
    }
   ],
   "source": [
    "ard_exs[0].label"
   ]
  },
  {
   "cell_type": "code",
   "execution_count": 24,
   "metadata": {
    "scrolled": true
   },
   "outputs": [
    {
     "data": {
      "text/plain": [
       "'1'"
      ]
     },
     "execution_count": 24,
     "metadata": {},
     "output_type": "execute_result"
    }
   ],
   "source": [
    "mrpc_exs[0].label"
   ]
  },
  {
   "cell_type": "markdown",
   "metadata": {},
   "source": [
    "### BERT (pytorch)"
>>>>>>> 91dfb3494b1007ca52495648238b7c3024458536
   ]
  },
  {
   "cell_type": "code",
   "execution_count": 2,
   "metadata": {},
   "outputs": [],
   "source": [
    "import run_classifier"
   ]
  },
  {
   "cell_type": "code",
   "execution_count": 3,
   "metadata": {},
   "outputs": [],
   "source": [
    "ArdProcessor = run_classifier.ArdProcessor()"
   ]
  },
  {
   "cell_type": "code",
   "execution_count": 16,
   "metadata": {
    "scrolled": true
   },
   "outputs": [],
   "source": [
    "ard_exs = ArdProcessor.get_train_examples(data_dir=\"glue_data/ARD\")"
   ]
  },
  {
   "cell_type": "code",
   "execution_count": 5,
   "metadata": {},
   "outputs": [],
   "source": [
    "MrpcProcessor = run_classifier.MrpcProcessor()"
   ]
  },
  {
   "cell_type": "code",
   "execution_count": 14,
   "metadata": {
    "scrolled": true
   },
   "outputs": [
    {
     "name": "stderr",
     "output_type": "stream",
     "text": [
      "12/01/2018 22:36:12 - INFO - run_classifier -   LOOKING AT glue_data/MRPC/train.tsv\n"
     ]
    }
   ],
   "source": [
    "mrpc_exs = MrpcProcessor.get_train_examples(\"glue_data/MRPC\")"
   ]
  },
  {
   "cell_type": "code",
   "execution_count": 19,
   "metadata": {
    "scrolled": true
   },
   "outputs": [
    {
     "data": {
      "text/plain": [
       "\"This is an excellent camera.  I have the Powershot A60 and have worked a bit with the A70.  The only difference on these cameras is that the A70 has more megapixels, other than that they are THE SAME.  The cameras offer various features, each with several different ways to manipulate the camera, including shutter speed and aperture.  For the beginner, it offers a few preset options that allow a quick switch to the desired need of the user.  The manual is very clear and easy to apply.  I would recommend this camera to someone wanting a point and click camera, as well as a more advanced person desiring some control of the camera.  The only complaint about these cameras is that they are poor for low light photos.  The low-light problem I have is in the requirement of using the flash and that the camera will usually not focus in low-light, creating not-so-nice blurry memories for many indoor family events.This camera has optional shutter speeds of up to 15 seconds, which I like to use with streams and other pictures involving water.  The speed has its highest shutter speed at 1/2000 of a second, which I haven't yet had success with, but will have fun playing with (it needs to be really bright for this).  I haven't yet played with the aperture, but it seems like it will be fun to play with as well.If you are wondering if you need 3 MP (A70), consider what you want to do with the pictures.  I would recommend a 3 MP if you want to do some cropping or want to blow up pictures greater than 5x7.  I simply use my A60 just for 4x6 and looking at pictures on my computer, which it does an excellent job of.I would recommend getting either a 128 or a 256 Mb compactflash card (cards used in these cameras) in addition to this camera (runs between $40 and $70), because the camera only comes with a 16 Mb card, which holds about 15-20 pictures.  I personally prefer Lexar's 12x or higher cards.  Get rechargable batteries!!!  Amazon's prices seems to be the cheapest for both cameras and compactflash cards (or within a couple bucks of other places).I would highly recommend either the Powershot A60 or A70 to anyone that wants a digital camera because of the versatility offered.-------------------------------Update:I have now had my Powershot A60 for over two years, and it is still functioning despite the serious abuse I have dealt to it. The camera has been dropped numerous times and has also taken a tumble down a 20 foot rocky steep hill (I thought it was a goner after that one). It has endured backpacking, rock climbing, and general outdoor adventures with me, and although its casing shows many scraps, dents, and scratches, the camera's functionality is beyond all of my expectations. The only problems that have developed is that the LCD seems to be dying slowly and about 20% of in-door poorly lit shots turn out grainy and have horizontal lines (all of which occurred after that major tumble, so I expect that is the cause); that is, 80% of in-door shots still look great. At the prices you can find this camera at around the internet, it is an awesome intro and general use digital camera, and with the low price, you can even pick one up for your kid (since it is now so cheap -- look elsewhere than Amazon). Anyways, I am looking to pick up a second one of these for the inevitable event that I completely destroy this sturdy camera.Also, in its 2 years of use, I can honestly say that I have not found a single time where I truly needed more than my 2 MP to get a great shot. I have taken this camera to the Canadian Rockies, to the Western Caribean, and all over the western US, and of all of the pictures I have, I don't see a true need for a higher megapixel than 3 MP (mine is 2 MP) or zoom (3x), unless you need a camera for your profession.\""
      ]
     },
     "execution_count": 19,
     "metadata": {},
     "output_type": "execute_result"
    }
   ],
   "source": [
    "ard_exs[0].text_a"
   ]
  },
  {
   "cell_type": "code",
   "execution_count": 15,
   "metadata": {
    "scrolled": true
   },
   "outputs": [
    {
     "data": {
      "text/plain": [
       "\"Yucaipa owned Dominick 's before selling the chain to Safeway in 1998 for $ 2.5 billion .\""
      ]
     },
     "execution_count": 15,
     "metadata": {},
     "output_type": "execute_result"
    }
   ],
   "source": [
    "mrpc_exs[1].text_a"
   ]
  },
  {
   "cell_type": "markdown",
   "metadata": {},
   "source": [
    "### BERT (pytorch)"
   ]
  },
  {
   "cell_type": "code",
   "execution_count": null,
   "metadata": {},
   "outputs": [],
   "source": [
    "import torch\n",
    "from pytorch_pretrained_bert import BertTokenizer, BertModel, BertForMaskedLM, BertForSequenceClassification"
   ]
  },
  {
   "cell_type": "code",
   "execution_count": null,
   "metadata": {},
   "outputs": [],
   "source": [
    "model = BertForSequenceClassification.from_pretrained('bert-base-uncased')"
   ]
  },
  {
   "cell_type": "code",
   "execution_count": null,
   "metadata": {},
   "outputs": [],
   "source": []
  }
 ],
 "metadata": {
  "kernelspec": {
   "display_name": "Python 3",
   "language": "python",
   "name": "python3"
  },
  "language_info": {
   "codemirror_mode": {
    "name": "ipython",
    "version": 3
   },
   "file_extension": ".py",
   "mimetype": "text/x-python",
   "name": "python",
   "nbconvert_exporter": "python",
   "pygments_lexer": "ipython3",
   "version": "3.6.0"
  },
  "toc": {
   "base_numbering": 1,
   "nav_menu": {},
   "number_sections": false,
   "sideBar": true,
   "skip_h1_title": false,
   "title_cell": "Table of Contents",
   "title_sidebar": "Contents",
   "toc_cell": false,
   "toc_position": {},
   "toc_section_display": true,
   "toc_window_display": false
  }
 },
 "nbformat": 4,
 "nbformat_minor": 2
}
